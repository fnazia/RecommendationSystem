{
 "cells": [
  {
   "cell_type": "markdown",
   "metadata": {},
   "source": [
    "# Basic Recommendation System Using Neural Network\n",
    "\n",
    "This is a basic recommendation system designed as a classification problem. This uses only the user IDs, book ISBNs, and the ratings to predict which books are rated by a certain user. The dataset used here is [Book Crossing Dataset](http://www2.informatik.uni-freiburg.de/~cziegler/BX/). The recommendation system is built for top 50 users. Each user ID and ISBN is embedded and concatenated before being passed into a Fully Connected Neural Network. The loss function used is the Cross-entropy Loss and the evaluation metric used is the Hit rate. \n",
    "\n",
    "The train set and the test set contain data of top 50 users. The train set consists of 199 books that are rated and 400 books that are not rated by an user. The test set contains only one book rated by the user and this book is absent in the train set. There are 600 books in the test set that are not rated by the user. The rated books are labeled as 1 and the not-rated books are labeled as 0 in the train and the test sets. Top 10 books are extracted according to the prediction probability score and listed as the recommended items for the user. This list may contain lesser books, if the model predicts less than 10 books to be rated by the user. \n",
    "\n",
    "The hit rate is 0.58, which means that 29 (out of 50) users' recommendation list contains the book rated in actual by the user. This very basic system is built on a small set of data due to heavy computational load. It is observed that with a more imbalanced training set containing far more not-rated items than the rated items the model training is more difficult and results in a lower hit rate for longer recommendation list."
   ]
  },
  {
   "cell_type": "code",
   "execution_count": 1,
   "metadata": {
    "id": "Jg6bneljM2x7"
   },
   "outputs": [],
   "source": [
    "import numpy as np\n",
    "import pandas\n",
    "import torch\n",
    "import warnings\n",
    "import matplotlib.pyplot as plt"
   ]
  },
  {
   "cell_type": "code",
   "execution_count": 2,
   "metadata": {},
   "outputs": [],
   "source": [
    "books_path = '/Users/naziafarhat/Desktop/Notebooks_old/Data/BX-CSV-Dump/BX-Books.csv'\n",
    "users_path = '/Users/naziafarhat/Desktop/Notebooks_old/Data/BX-CSV-Dump/BX-Users.csv'"
   ]
  },
  {
   "cell_type": "code",
   "execution_count": 3,
   "metadata": {},
   "outputs": [],
   "source": [
    "# Function to remove quotes from column names\n",
    "\n",
    "rm_quotes = lambda x: x.replace('\"', '')"
   ]
  },
  {
   "cell_type": "code",
   "execution_count": 4,
   "metadata": {
    "scrolled": true
   },
   "outputs": [
    {
     "data": {
      "text/html": [
       "<div>\n",
       "<style scoped>\n",
       "    .dataframe tbody tr th:only-of-type {\n",
       "        vertical-align: middle;\n",
       "    }\n",
       "\n",
       "    .dataframe tbody tr th {\n",
       "        vertical-align: top;\n",
       "    }\n",
       "\n",
       "    .dataframe thead th {\n",
       "        text-align: right;\n",
       "    }\n",
       "</style>\n",
       "<table border=\"1\" class=\"dataframe\">\n",
       "  <thead>\n",
       "    <tr style=\"text-align: right;\">\n",
       "      <th></th>\n",
       "      <th>ISBN</th>\n",
       "      <th>Book-Title</th>\n",
       "      <th>Book-Author</th>\n",
       "      <th>Year-Of-Publication</th>\n",
       "      <th>Publisher</th>\n",
       "      <th>Image-URL-S</th>\n",
       "      <th>Image-URL-M</th>\n",
       "      <th>Image-URL-L</th>\n",
       "    </tr>\n",
       "  </thead>\n",
       "  <tbody>\n",
       "    <tr>\n",
       "      <th>0</th>\n",
       "      <td>0195153448</td>\n",
       "      <td>Classical Mythology</td>\n",
       "      <td>Mark P. O. Morford</td>\n",
       "      <td>2002</td>\n",
       "      <td>Oxford University Press</td>\n",
       "      <td>http://images.amazon.com/images/P/0195153448.0...</td>\n",
       "      <td>http://images.amazon.com/images/P/0195153448.0...</td>\n",
       "      <td>http://images.amazon.com/images/P/0195153448.0...</td>\n",
       "    </tr>\n",
       "    <tr>\n",
       "      <th>1</th>\n",
       "      <td>0002005018</td>\n",
       "      <td>Clara Callan</td>\n",
       "      <td>Richard Bruce Wright</td>\n",
       "      <td>2001</td>\n",
       "      <td>HarperFlamingo Canada</td>\n",
       "      <td>http://images.amazon.com/images/P/0002005018.0...</td>\n",
       "      <td>http://images.amazon.com/images/P/0002005018.0...</td>\n",
       "      <td>http://images.amazon.com/images/P/0002005018.0...</td>\n",
       "    </tr>\n",
       "    <tr>\n",
       "      <th>2</th>\n",
       "      <td>0060973129</td>\n",
       "      <td>Decision in Normandy</td>\n",
       "      <td>Carlo D'Este</td>\n",
       "      <td>1991</td>\n",
       "      <td>HarperPerennial</td>\n",
       "      <td>http://images.amazon.com/images/P/0060973129.0...</td>\n",
       "      <td>http://images.amazon.com/images/P/0060973129.0...</td>\n",
       "      <td>http://images.amazon.com/images/P/0060973129.0...</td>\n",
       "    </tr>\n",
       "    <tr>\n",
       "      <th>3</th>\n",
       "      <td>0374157065</td>\n",
       "      <td>Flu: The Story of the Great Influenza Pandemic...</td>\n",
       "      <td>Gina Bari Kolata</td>\n",
       "      <td>1999</td>\n",
       "      <td>Farrar Straus Giroux</td>\n",
       "      <td>http://images.amazon.com/images/P/0374157065.0...</td>\n",
       "      <td>http://images.amazon.com/images/P/0374157065.0...</td>\n",
       "      <td>http://images.amazon.com/images/P/0374157065.0...</td>\n",
       "    </tr>\n",
       "    <tr>\n",
       "      <th>4</th>\n",
       "      <td>0393045218</td>\n",
       "      <td>The Mummies of Urumchi</td>\n",
       "      <td>E. J. W. Barber</td>\n",
       "      <td>1999</td>\n",
       "      <td>W. W. Norton &amp;amp; Company</td>\n",
       "      <td>http://images.amazon.com/images/P/0393045218.0...</td>\n",
       "      <td>http://images.amazon.com/images/P/0393045218.0...</td>\n",
       "      <td>http://images.amazon.com/images/P/0393045218.0...</td>\n",
       "    </tr>\n",
       "  </tbody>\n",
       "</table>\n",
       "</div>"
      ],
      "text/plain": [
       "         ISBN                                         Book-Title  \\\n",
       "0  0195153448                                Classical Mythology   \n",
       "1  0002005018                                       Clara Callan   \n",
       "2  0060973129                               Decision in Normandy   \n",
       "3  0374157065  Flu: The Story of the Great Influenza Pandemic...   \n",
       "4  0393045218                             The Mummies of Urumchi   \n",
       "\n",
       "            Book-Author  Year-Of-Publication                   Publisher  \\\n",
       "0    Mark P. O. Morford                 2002     Oxford University Press   \n",
       "1  Richard Bruce Wright                 2001       HarperFlamingo Canada   \n",
       "2          Carlo D'Este                 1991             HarperPerennial   \n",
       "3      Gina Bari Kolata                 1999        Farrar Straus Giroux   \n",
       "4       E. J. W. Barber                 1999  W. W. Norton &amp; Company   \n",
       "\n",
       "                                         Image-URL-S  \\\n",
       "0  http://images.amazon.com/images/P/0195153448.0...   \n",
       "1  http://images.amazon.com/images/P/0002005018.0...   \n",
       "2  http://images.amazon.com/images/P/0060973129.0...   \n",
       "3  http://images.amazon.com/images/P/0374157065.0...   \n",
       "4  http://images.amazon.com/images/P/0393045218.0...   \n",
       "\n",
       "                                         Image-URL-M  \\\n",
       "0  http://images.amazon.com/images/P/0195153448.0...   \n",
       "1  http://images.amazon.com/images/P/0002005018.0...   \n",
       "2  http://images.amazon.com/images/P/0060973129.0...   \n",
       "3  http://images.amazon.com/images/P/0374157065.0...   \n",
       "4  http://images.amazon.com/images/P/0393045218.0...   \n",
       "\n",
       "                                         Image-URL-L  \n",
       "0  http://images.amazon.com/images/P/0195153448.0...  \n",
       "1  http://images.amazon.com/images/P/0002005018.0...  \n",
       "2  http://images.amazon.com/images/P/0060973129.0...  \n",
       "3  http://images.amazon.com/images/P/0374157065.0...  \n",
       "4  http://images.amazon.com/images/P/0393045218.0...  "
      ]
     },
     "execution_count": 4,
     "metadata": {},
     "output_type": "execute_result"
    }
   ],
   "source": [
    "# Books dataframe\n",
    "\n",
    "books = pandas.read_csv(books_path, sep = '\\\";\\\"', engine = 'python', encoding='ISO-8859–1').replace('\"', '', regex = True)\n",
    "books = books.rename(columns = rm_quotes)\n",
    "books.head()"
   ]
  },
  {
   "cell_type": "code",
   "execution_count": 5,
   "metadata": {
    "scrolled": true
   },
   "outputs": [
    {
     "data": {
      "text/html": [
       "<div>\n",
       "<style scoped>\n",
       "    .dataframe tbody tr th:only-of-type {\n",
       "        vertical-align: middle;\n",
       "    }\n",
       "\n",
       "    .dataframe tbody tr th {\n",
       "        vertical-align: top;\n",
       "    }\n",
       "\n",
       "    .dataframe thead th {\n",
       "        text-align: right;\n",
       "    }\n",
       "</style>\n",
       "<table border=\"1\" class=\"dataframe\">\n",
       "  <thead>\n",
       "    <tr style=\"text-align: right;\">\n",
       "      <th></th>\n",
       "      <th>User-ID</th>\n",
       "      <th>Location</th>\n",
       "      <th>Age</th>\n",
       "    </tr>\n",
       "  </thead>\n",
       "  <tbody>\n",
       "    <tr>\n",
       "      <th>0</th>\n",
       "      <td>1</td>\n",
       "      <td>nyc, new york, usa;NULL</td>\n",
       "      <td>None</td>\n",
       "    </tr>\n",
       "    <tr>\n",
       "      <th>1</th>\n",
       "      <td>2</td>\n",
       "      <td>stockton, california, usa</td>\n",
       "      <td>18</td>\n",
       "    </tr>\n",
       "    <tr>\n",
       "      <th>2</th>\n",
       "      <td>3</td>\n",
       "      <td>moscow, yukon territory, russia;NULL</td>\n",
       "      <td>None</td>\n",
       "    </tr>\n",
       "    <tr>\n",
       "      <th>3</th>\n",
       "      <td>4</td>\n",
       "      <td>porto, v.n.gaia, portugal</td>\n",
       "      <td>17</td>\n",
       "    </tr>\n",
       "    <tr>\n",
       "      <th>4</th>\n",
       "      <td>5</td>\n",
       "      <td>farnborough, hants, united kingdom;NULL</td>\n",
       "      <td>None</td>\n",
       "    </tr>\n",
       "  </tbody>\n",
       "</table>\n",
       "</div>"
      ],
      "text/plain": [
       "  User-ID                                 Location   Age\n",
       "0       1                  nyc, new york, usa;NULL  None\n",
       "1       2                stockton, california, usa    18\n",
       "2       3     moscow, yukon territory, russia;NULL  None\n",
       "3       4                porto, v.n.gaia, portugal    17\n",
       "4       5  farnborough, hants, united kingdom;NULL  None"
      ]
     },
     "execution_count": 5,
     "metadata": {},
     "output_type": "execute_result"
    }
   ],
   "source": [
    "# Users dataframe\n",
    "\n",
    "users = pandas.read_csv(users_path, sep = '\\\";\\\"', engine = 'python', encoding='ISO-8859–1').replace('\"', '', regex = True)\n",
    "users = users.rename(columns = rm_quotes)\n",
    "users.head()"
   ]
  },
  {
   "cell_type": "code",
   "execution_count": 6,
   "metadata": {
    "colab": {
     "base_uri": "https://localhost:8080/",
     "height": 206
    },
    "id": "MvcdQpO6NEhT",
    "outputId": "dbb6ee50-b0a2-43bf-a428-974047986d3a"
   },
   "outputs": [
    {
     "data": {
      "text/html": [
       "<div>\n",
       "<style scoped>\n",
       "    .dataframe tbody tr th:only-of-type {\n",
       "        vertical-align: middle;\n",
       "    }\n",
       "\n",
       "    .dataframe tbody tr th {\n",
       "        vertical-align: top;\n",
       "    }\n",
       "\n",
       "    .dataframe thead th {\n",
       "        text-align: right;\n",
       "    }\n",
       "</style>\n",
       "<table border=\"1\" class=\"dataframe\">\n",
       "  <thead>\n",
       "    <tr style=\"text-align: right;\">\n",
       "      <th></th>\n",
       "      <th>User-ID</th>\n",
       "      <th>ISBN</th>\n",
       "      <th>Book-Rating</th>\n",
       "    </tr>\n",
       "  </thead>\n",
       "  <tbody>\n",
       "    <tr>\n",
       "      <th>0</th>\n",
       "      <td>276725</td>\n",
       "      <td>034545104X</td>\n",
       "      <td>1</td>\n",
       "    </tr>\n",
       "    <tr>\n",
       "      <th>1</th>\n",
       "      <td>276726</td>\n",
       "      <td>0155061224</td>\n",
       "      <td>6</td>\n",
       "    </tr>\n",
       "    <tr>\n",
       "      <th>2</th>\n",
       "      <td>276727</td>\n",
       "      <td>0446520802</td>\n",
       "      <td>1</td>\n",
       "    </tr>\n",
       "    <tr>\n",
       "      <th>3</th>\n",
       "      <td>276729</td>\n",
       "      <td>052165615X</td>\n",
       "      <td>4</td>\n",
       "    </tr>\n",
       "    <tr>\n",
       "      <th>4</th>\n",
       "      <td>276729</td>\n",
       "      <td>0521795028</td>\n",
       "      <td>7</td>\n",
       "    </tr>\n",
       "  </tbody>\n",
       "</table>\n",
       "</div>"
      ],
      "text/plain": [
       "  User-ID        ISBN  Book-Rating\n",
       "0  276725  034545104X            1\n",
       "1  276726  0155061224            6\n",
       "2  276727  0446520802            1\n",
       "3  276729  052165615X            4\n",
       "4  276729  0521795028            7"
      ]
     },
     "execution_count": 6,
     "metadata": {},
     "output_type": "execute_result"
    }
   ],
   "source": [
    "# Ratings dataframe\n",
    "\n",
    "ratings = pandas.read_csv('/Users/naziafarhat/Desktop/Notebooks_old/Data/BX-CSV-Dump/BX-Book-Ratings.csv', sep = '\\\";\\\"', engine = 'python', encoding='ISO-8859–1').replace('\"', '', regex = True)\n",
    "ratings = ratings.rename(columns = rm_quotes)\n",
    "ratings['Book-Rating'] = ratings['Book-Rating'].astype(int)+1\n",
    "ratings.head()"
   ]
  },
  {
   "cell_type": "code",
   "execution_count": 7,
   "metadata": {},
   "outputs": [
    {
     "data": {
      "text/plain": [
       "(105283,)"
      ]
     },
     "execution_count": 7,
     "metadata": {},
     "output_type": "execute_result"
    }
   ],
   "source": [
    "ratings['User-ID'].unique().shape"
   ]
  },
  {
   "cell_type": "code",
   "execution_count": 8,
   "metadata": {
    "colab": {
     "base_uri": "https://localhost:8080/"
    },
    "id": "ZwCh1174NMcM",
    "outputId": "5dff8e4a-64ed-4d24-a847-43425606ec03"
   },
   "outputs": [
    {
     "data": {
      "text/plain": [
       "((29950, 3), (30050, 3))"
      ]
     },
     "execution_count": 8,
     "metadata": {},
     "output_type": "execute_result"
    }
   ],
   "source": [
    "warnings.filterwarnings(\"ignore\")\n",
    "\n",
    "train_set = []\n",
    "test_set = []\n",
    "\n",
    "users_to_idx = {u: i for i, u in enumerate(ratings['User-ID'].unique())}\n",
    "books_to_idx = {b: i for i, b in enumerate(ratings['ISBN'].unique())}\n",
    "\n",
    "idx_to_users = {v: k for k, v in users_to_idx.items()}\n",
    "idx_to_books = {v: k for k, v in books_to_idx.items()}\n",
    "\n",
    "top_uids = ratings['User-ID'].value_counts().head(50).keys()\n",
    "\n",
    "# Get top users only\n",
    "for uid in top_uids:\n",
    "    uid_rows_rated = ratings[ratings['User-ID'] == uid].dropna()\n",
    "    uid_rows_rated['Book-Rating'].values[:] = 1\n",
    "    \n",
    "    not_uid_rows_rated = ratings[ratings['User-ID'] != uid]\n",
    "    not_uid_rows_rated['Book-Rating'].values[:] = 0\n",
    "    not_uid_rows_rated['User-ID'].values[:] = uid\n",
    "    \n",
    "    uid_rows_rated['ISBN'] = uid_rows_rated['ISBN'].map(books_to_idx).to_frame()\n",
    "    uid_rows_rated['User-ID'] = uid_rows_rated['User-ID'].map(users_to_idx).to_frame()\n",
    "    \n",
    "    not_uid_rows_rated['User-ID'] = not_uid_rows_rated['User-ID'].map(users_to_idx).to_frame()\n",
    "    not_uid_rows_rated['ISBN'] = not_uid_rows_rated['ISBN'].map(books_to_idx).to_frame()\n",
    "    \n",
    "    rated = uid_rows_rated.to_numpy()\n",
    "    not_rated = not_uid_rows_rated.to_numpy()\n",
    "    \n",
    "    train_set.extend(np.vstack((rated[1:200], not_rated[:400])))\n",
    "    test_set.extend(np.vstack((rated[0], not_rated[400:1000])))\n",
    "\n",
    "train_set = np.stack(train_set)\n",
    "test_set = np.stack(test_set)\n",
    "\n",
    "train_set.shape, test_set.shape"
   ]
  },
  {
   "cell_type": "code",
   "execution_count": 9,
   "metadata": {
    "id": "wVhq5LRgNSdv"
   },
   "outputs": [],
   "source": [
    "import torch\n",
    "import copy\n",
    "\n",
    "class RecNet:\n",
    "    \n",
    "    def __init__(self, \n",
    "                 n_users, \n",
    "                 n_books, \n",
    "                 n_embed, \n",
    "                 n_classes, \n",
    "                 embed_dropout = 0.2, \n",
    "                 layers = [10, 20, 10], \n",
    "                 net_dropout = 0.2):\n",
    "\n",
    "        self.Xmeans = None\n",
    "        self.Xstds = None\n",
    "        self.error_trace = []\n",
    "        self.nnet = self.construct_network(n_users, \n",
    "                                           n_books, \n",
    "                                           n_embed, \n",
    "                                           n_classes, \n",
    "                                           embed_dropout, \n",
    "                                           layers, \n",
    "                                           net_dropout)\n",
    "        \n",
    "    def construct_network(self, \n",
    "                          n_users, \n",
    "                          n_books, \n",
    "                          n_embed, \n",
    "                          n_classes, \n",
    "                          embed_dropout, \n",
    "                          layers, \n",
    "                          dropout):\n",
    "        \n",
    "        hidden_list = [torch.nn.Embedding(n_users, n_embed), \n",
    "                       torch.nn.Embedding(n_books, n_embed), \n",
    "                       torch.nn.Dropout(embed_dropout)]\n",
    "        in_units = n_embed*2\n",
    "        for out_units in layers:\n",
    "            hidden_list.extend([torch.nn.Linear(in_units, out_units), \n",
    "                                torch.nn.ReLU(), \n",
    "                                torch.nn.Dropout(dropout)])\n",
    "            in_units = out_units\n",
    "        hidden_list.append(torch.nn.Linear(in_units, n_classes))\n",
    "        return torch.nn.Sequential(*hidden_list)\n",
    "    \n",
    "    def _setup_standardize(self, X):\n",
    "        if self.Xmeans is None:\n",
    "            self.Xmeans = X.mean(0)\n",
    "        if self.Xstds is None:\n",
    "            self.Xstds = X.std(0)\n",
    "        self.Xconstant = self.Xstds == 0\n",
    "        self.XstdsFixed = copy.copy(self.Xstds)\n",
    "        self.XstdsFixed[self.Xconstant] = 1\n",
    "        \n",
    "    def _standardizeX(self, X):\n",
    "        X_standardized = (X - self.Xmeans) / self.XstdsFixed\n",
    "        X_standardized[:, self.Xconstant] = 0.0\n",
    "        return X_standardized\n",
    "    \n",
    "    def _unstandardizeX(self, Xs):\n",
    "        return Xs * self.XstdsFixed + self.Xmeans\n",
    "    \n",
    "    def forward(self, X):\n",
    "        Y = self.nnet[2](torch.cat((self.nnet[0](X[:, 0]), self.nnet[1](X[:, 1])), dim = 1))\n",
    "        for m in self.nnet[3:]:\n",
    "            Y = m(Y)\n",
    "        return Y\n",
    "    \n",
    "    def train(self, X, T, learning_rate = 0.01, n_epochs = 100, optimizer = 'Adam', loss = 'CrossEntropy', batch_size = 50):\n",
    "        # Convert to torch tensor\n",
    "        if not torch.is_tensor(X):\n",
    "            X = torch.tensor(X)\n",
    "        if not torch.is_tensor(T):\n",
    "            T = torch.tensor(T.reshape(-1))\n",
    "        \n",
    "        # Create tensor dataset for batch training\n",
    "        trainset = torch.utils.data.TensorDataset(X, T)\n",
    "        trainloader = torch.utils.data.DataLoader(trainset, batch_size = batch_size, shuffle=True)\n",
    "        \n",
    "        # Define optimizer and loss function\n",
    "        optimizer = torch.optim.Adam(self.nnet.parameters(), lr = learning_rate)\n",
    "        loss_F = torch.nn.CrossEntropyLoss()\n",
    "        \n",
    "        # Use gpu\n",
    "        device = torch.device('mps')\n",
    "        self.nnet = self.nnet.to(device)\n",
    "        \n",
    "        # Switch on train mode of the neural net for dynamic computation\n",
    "        self.nnet.train()\n",
    "        \n",
    "        # Train the network\n",
    "        for epoch in range(n_epochs):\n",
    "            batch_error = []\n",
    "            for Xt, Tt in trainloader:\n",
    "                Xt = Xt.to(device)\n",
    "                Tt = Tt.to(device)\n",
    "                Yt = self.forward(Xt.long())\n",
    "                error = loss_F(Yt, Tt)\n",
    "                error.backward()\n",
    "                optimizer.step()\n",
    "                optimizer.zero_grad()\n",
    "                batch_error.append(error.item())\n",
    "            self.error_trace.append(np.array(batch_error).mean())\n",
    "            \n",
    "    def use(self, X):\n",
    "        self.nnet = self.nnet.to('cpu')\n",
    "        self.nnet.eval()\n",
    "        Y = self.forward(X)\n",
    "        \n",
    "        Ymax = torch.max(Y, axis = 1)[0].reshape(-1, 1)\n",
    "        Yexp = torch.exp(Y - Ymax)\n",
    "        denom = torch.sum(Yexp, axis = 1).reshape(-1, 1)\n",
    "        Y_prob = (Yexp / denom).detach().numpy()\n",
    "        \n",
    "        Y_class = np.argmax(Y_prob, axis=1)\n",
    "        return Y_class, Y_prob\n",
    "    \n",
    "    def get_error_trace(self):\n",
    "        return self.error_trace\n",
    "        "
   ]
  },
  {
   "cell_type": "code",
   "execution_count": 80,
   "metadata": {
    "id": "0tnzUp4IPd07",
    "scrolled": true
   },
   "outputs": [],
   "source": [
    "# Find the indices of the samples that contain the books rated by an user. (pos_actual)\n",
    "# Find the indices predicted by the reco system. (pos_pred)\n",
    "# Get the number of correctly predicted indices.\n",
    "\n",
    "\n",
    "def recommend_and_evaluate(uid, Y_class, Y, X, T, top_k = 10):\n",
    "    uid_indices = np.where(X[:, 0] == users_to_idx[uid])[0]\n",
    "    user_book = X[uid_indices]\n",
    "    actual = T[uid_indices]\n",
    "    preds = Y_class[uid_indices]\n",
    "    conf = Y[uid_indices]\n",
    "    pos_pred = np.where(preds == 1)[0]\n",
    "    conf_pred = np.max(conf[pos_pred], axis = 1)\n",
    "    pos_actual = np.where(actual == 1)[0]\n",
    "    \n",
    "    # Hit Ratio\n",
    "    rec_order = np.argsort(conf_pred)[::-1][:top_k] # conf\n",
    "    rec_books = [idx_to_books[r] for r in user_book[rec_order, 1]]\n",
    "    \n",
    "    actual_book = idx_to_books[user_book[pos_actual.item(), 1]]\n",
    "    \n",
    "    if pos_actual in rec_order: \n",
    "        return (rec_books, conf_pred[rec_order], 1, actual_book)\n",
    "    else:\n",
    "        return (rec_books, conf_pred[rec_order], 0, actual_book)        "
   ]
  },
  {
   "cell_type": "code",
   "execution_count": 11,
   "metadata": {
    "id": "UF6yHdCjPiFU"
   },
   "outputs": [],
   "source": [
    "# Build the model\n",
    "\n",
    "recnet = RecNet(n_users = len(users_to_idx), \n",
    "                n_books = len(books_to_idx), \n",
    "                n_embed = 20, #100, \n",
    "                n_classes = len(np.unique(train_set[:, 2])), \n",
    "                embed_dropout = 0.2, \n",
    "                layers = [5], #[3, 5], \n",
    "                net_dropout = 0.2)\n"
   ]
  },
  {
   "cell_type": "code",
   "execution_count": 12,
   "metadata": {
    "id": "5X_iICK4PmEm"
   },
   "outputs": [],
   "source": [
    "# Train the model\n",
    "\n",
    "recnet.train(X = train_set[:, :2], T = train_set[:, 2:], learning_rate = 0.01, n_epochs = 50)"
   ]
  },
  {
   "cell_type": "code",
   "execution_count": 13,
   "metadata": {
    "colab": {
     "base_uri": "https://localhost:8080/",
     "height": 269
    },
    "id": "MzRDVaZjbmoz",
    "outputId": "db034769-c69b-45f4-fe3c-666a2752f57b"
   },
   "outputs": [
    {
     "data": {
      "image/png": "[encoded data removed]",
      "text/plain": [
       "<Figure size 432x288 with 1 Axes>"
      ]
     },
     "metadata": {
      "needs_background": "light"
     },
     "output_type": "display_data"
    }
   ],
   "source": [
    "# Plot of Loss vs Epoch during the training process\n",
    "\n",
    "plt.plot(recnet.get_error_trace())\n",
    "plt.xlabel('Epoch')\n",
    "plt.ylabel('Loss');"
   ]
  },
  {
   "cell_type": "markdown",
   "metadata": {},
   "source": [
    "## Evaluation: Hit Rate"
   ]
  },
  {
   "cell_type": "code",
   "execution_count": 131,
   "metadata": {
    "colab": {
     "base_uri": "https://localhost:8080/"
    },
    "id": "n2FbIHEKPqOz",
    "outputId": "5320b20c-d924-483d-9913-0d06e4296363",
    "scrolled": true
   },
   "outputs": [
    {
     "name": "stdout",
     "output_type": "stream",
     "text": [
      "Number of hits: 29\n",
      "Hit rate: 0.58\n"
     ]
    }
   ],
   "source": [
    "# Get the recommendation list for the test set\n",
    "\n",
    "Y_class, Y = recnet.use(X = torch.tensor(test_set[:, :2]))\n",
    "count = 0\n",
    "uid_rec = {}\n",
    "hit_uid = []\n",
    "for u in top_uids:\n",
    "    uid_rec[u] = recommend_and_evaluate(uid = u, \n",
    "                                             Y_class = Y_class, \n",
    "                                             Y = Y, \n",
    "                                             X = test_set[:, :2], \n",
    "                                             T = test_set[:, 2:], \n",
    "                                             top_k = 10)\n",
    "\n",
    "\n",
    "for k, v in uid_rec.items():\n",
    "    count += v[2]\n",
    "    if v[2] is 1:\n",
    "        hit_uid.append(k)\n",
    "        \n",
    "print(f'Number of hits: {count}')\n",
    "\n",
    "# Hit rate\n",
    "\n",
    "print(f'Hit rate: {count/len(top_uids)}')"
   ]
  },
  {
   "cell_type": "markdown",
   "metadata": {},
   "source": [
    "## Recommended books"
   ]
  },
  {
   "cell_type": "code",
   "execution_count": 132,
   "metadata": {
    "scrolled": true
   },
   "outputs": [],
   "source": [
    "# Recommended Books found in books DF for a hit user-id\n",
    "\n",
    "user_serial = hit_uid[0]\n",
    "rec_isbn = np.array(uid_rec[user_serial][0])\n",
    "rec_isbn_found = rec_isbn[np.isin(rec_isbn, books['ISBN'])]\n",
    "rec_conf_found = np.array(uid_rec[user_serial][1])[np.isin(rec_isbn, books['ISBN'])]"
   ]
  },
  {
   "cell_type": "code",
   "execution_count": 133,
   "metadata": {
    "scrolled": true
   },
   "outputs": [
    {
     "data": {
      "text/html": [
       "<div>\n",
       "<style scoped>\n",
       "    .dataframe tbody tr th:only-of-type {\n",
       "        vertical-align: middle;\n",
       "    }\n",
       "\n",
       "    .dataframe tbody tr th {\n",
       "        vertical-align: top;\n",
       "    }\n",
       "\n",
       "    .dataframe thead th {\n",
       "        text-align: right;\n",
       "    }\n",
       "</style>\n",
       "<table border=\"1\" class=\"dataframe\">\n",
       "  <thead>\n",
       "    <tr style=\"text-align: right;\">\n",
       "      <th></th>\n",
       "      <th>ISBN</th>\n",
       "      <th>Book-Title</th>\n",
       "      <th>Book-Author</th>\n",
       "      <th>Year-Of-Publication</th>\n",
       "      <th>Publisher</th>\n",
       "      <th>Image-URL-S</th>\n",
       "      <th>Image-URL-M</th>\n",
       "      <th>Image-URL-L</th>\n",
       "    </tr>\n",
       "  </thead>\n",
       "  <tbody>\n",
       "    <tr>\n",
       "      <th>211050</th>\n",
       "      <td>0002241447</td>\n",
       "      <td>The Thief of Always: A Fable</td>\n",
       "      <td>Clive Barker</td>\n",
       "      <td>1992</td>\n",
       "      <td>Harpercollins Publisher</td>\n",
       "      <td>http://images.amazon.com/images/P/0002241447.0...</td>\n",
       "      <td>http://images.amazon.com/images/P/0002241447.0...</td>\n",
       "      <td>http://images.amazon.com/images/P/0002241447.0...</td>\n",
       "    </tr>\n",
       "    <tr>\n",
       "      <th>5355</th>\n",
       "      <td>2070419657</td>\n",
       "      <td>Soie</td>\n",
       "      <td>Alessandro Baricco</td>\n",
       "      <td>2001</td>\n",
       "      <td>Gallimard</td>\n",
       "      <td>http://images.amazon.com/images/P/2070419657.0...</td>\n",
       "      <td>http://images.amazon.com/images/P/2070419657.0...</td>\n",
       "      <td>http://images.amazon.com/images/P/2070419657.0...</td>\n",
       "    </tr>\n",
       "    <tr>\n",
       "      <th>46620</th>\n",
       "      <td>3822858617</td>\n",
       "      <td>Georgia O'Keeffe 1887-1986: Flowers in the Des...</td>\n",
       "      <td>Britta Benke</td>\n",
       "      <td>2001</td>\n",
       "      <td>Taschen</td>\n",
       "      <td>http://images.amazon.com/images/P/3822858617.0...</td>\n",
       "      <td>http://images.amazon.com/images/P/3822858617.0...</td>\n",
       "      <td>http://images.amazon.com/images/P/3822858617.0...</td>\n",
       "    </tr>\n",
       "    <tr>\n",
       "      <th>106773</th>\n",
       "      <td>3808572612</td>\n",
       "      <td>Arbeitsbuch Betriebswirtschaftslehre. Praxisor...</td>\n",
       "      <td>Detlev Nolte</td>\n",
       "      <td>1999</td>\n",
       "      <td>Europa-Lehrmittel</td>\n",
       "      <td>http://images.amazon.com/images/P/3808572612.0...</td>\n",
       "      <td>http://images.amazon.com/images/P/3808572612.0...</td>\n",
       "      <td>http://images.amazon.com/images/P/3808572612.0...</td>\n",
       "    </tr>\n",
       "    <tr>\n",
       "      <th>71772</th>\n",
       "      <td>0671025368</td>\n",
       "      <td>The Coldest Winter Ever</td>\n",
       "      <td>Sister Souljah</td>\n",
       "      <td>2000</td>\n",
       "      <td>Pocket</td>\n",
       "      <td>http://images.amazon.com/images/P/0671025368.0...</td>\n",
       "      <td>http://images.amazon.com/images/P/0671025368.0...</td>\n",
       "      <td>http://images.amazon.com/images/P/0671025368.0...</td>\n",
       "    </tr>\n",
       "  </tbody>\n",
       "</table>\n",
       "</div>"
      ],
      "text/plain": [
       "              ISBN                                         Book-Title  \\\n",
       "211050  0002241447                       The Thief of Always: A Fable   \n",
       "5355    2070419657                                               Soie   \n",
       "46620   3822858617  Georgia O'Keeffe 1887-1986: Flowers in the Des...   \n",
       "106773  3808572612  Arbeitsbuch Betriebswirtschaftslehre. Praxisor...   \n",
       "71772   0671025368                            The Coldest Winter Ever   \n",
       "\n",
       "               Book-Author  Year-Of-Publication                Publisher  \\\n",
       "211050        Clive Barker                 1992  Harpercollins Publisher   \n",
       "5355    Alessandro Baricco                 2001                Gallimard   \n",
       "46620         Britta Benke                 2001                  Taschen   \n",
       "106773        Detlev Nolte                 1999        Europa-Lehrmittel   \n",
       "71772       Sister Souljah                 2000                   Pocket   \n",
       "\n",
       "                                              Image-URL-S  \\\n",
       "211050  http://images.amazon.com/images/P/0002241447.0...   \n",
       "5355    http://images.amazon.com/images/P/2070419657.0...   \n",
       "46620   http://images.amazon.com/images/P/3822858617.0...   \n",
       "106773  http://images.amazon.com/images/P/3808572612.0...   \n",
       "71772   http://images.amazon.com/images/P/0671025368.0...   \n",
       "\n",
       "                                              Image-URL-M  \\\n",
       "211050  http://images.amazon.com/images/P/0002241447.0...   \n",
       "5355    http://images.amazon.com/images/P/2070419657.0...   \n",
       "46620   http://images.amazon.com/images/P/3822858617.0...   \n",
       "106773  http://images.amazon.com/images/P/3808572612.0...   \n",
       "71772   http://images.amazon.com/images/P/0671025368.0...   \n",
       "\n",
       "                                              Image-URL-L  \n",
       "211050  http://images.amazon.com/images/P/0002241447.0...  \n",
       "5355    http://images.amazon.com/images/P/2070419657.0...  \n",
       "46620   http://images.amazon.com/images/P/3822858617.0...  \n",
       "106773  http://images.amazon.com/images/P/3808572612.0...  \n",
       "71772   http://images.amazon.com/images/P/0671025368.0...  "
      ]
     },
     "execution_count": 133,
     "metadata": {},
     "output_type": "execute_result"
    }
   ],
   "source": [
    "# Books being recommended for that hit user-id\n",
    "\n",
    "recommendation_df = books.iloc[pandas.Index(books['ISBN']).get_indexer(rec_isbn_found)]\n",
    "recommendation_df"
   ]
  },
  {
   "cell_type": "code",
   "execution_count": 134,
   "metadata": {},
   "outputs": [
    {
     "data": {
      "text/plain": [
       "['The Thief of Always: A Fable',\n",
       " 'Soie',\n",
       " \"Georgia O'Keeffe 1887-1986: Flowers in the Desert (Basic Art)\",\n",
       " 'Arbeitsbuch Betriebswirtschaftslehre. Praxisorientiert fÃ?Â¤cherÃ?Â¼bergreifend. (Lernmaterialien)',\n",
       " 'The Coldest Winter Ever']"
      ]
     },
     "execution_count": 134,
     "metadata": {},
     "output_type": "execute_result"
    }
   ],
   "source": [
    "# Name of the recommended books\n",
    "\n",
    "list(recommendation_df['Book-Title'])"
   ]
  },
  {
   "cell_type": "code",
   "execution_count": 135,
   "metadata": {},
   "outputs": [
    {
     "data": {
      "text/plain": [
       "array([0.9953556, 0.9953556, 0.9953556, 0.9953556, 0.9953556],\n",
       "      dtype=float32)"
      ]
     },
     "execution_count": 135,
     "metadata": {},
     "output_type": "execute_result"
    }
   ],
   "source": [
    "# Probabilities / Confidence score of the recommended books\n",
    "\n",
    "conf_score = rec_conf_found\n",
    "conf_score"
   ]
  },
  {
   "cell_type": "code",
   "execution_count": 136,
   "metadata": {},
   "outputs": [
    {
     "data": {
      "text/plain": [
       "'The Thief of Always: A Fable'"
      ]
     },
     "execution_count": 136,
     "metadata": {},
     "output_type": "execute_result"
    }
   ],
   "source": [
    "# Actual book rated by that user\n",
    "\n",
    "actual_book_rated = books[books['ISBN'] == uid_rec[user_serial][3]]['Book-Title'].item()\n",
    "actual_book_rated"
   ]
  },
  {
   "cell_type": "code",
   "execution_count": 137,
   "metadata": {
    "scrolled": true
   },
   "outputs": [
    {
     "data": {
      "image/png": "[encoded data removed]",
      "text/plain": [
       "<Figure size 600x400 with 1 Axes>"
      ]
     },
     "metadata": {},
     "output_type": "display_data"
    }
   ],
   "source": [
    "# Plot of the recommended books for that user\n",
    "\n",
    "plt.rcdefaults()\n",
    "fig, ax = plt.subplots(figsize = (6, 4))\n",
    "\n",
    "booksrec = list(recommendation_df['Book-Title']) \n",
    "y_pos = np.arange(len(booksrec))\n",
    "confidence = 1 * conf_score \n",
    "\n",
    "#cm = plt.cm.get_cmap('magma') #RdYlBu_r\n",
    "#X = confidence\n",
    "#x_span = X.max()-X.min()\n",
    "#C = [cm(((x-X.min())/x_span)) for x in X]\n",
    "\n",
    "C = ['r' if b == actual_book_rated else 'g' for b in booksrec]\n",
    "\n",
    "ax.barh(y_pos, confidence, align='center', color = C)\n",
    "ax.set_yticks(y_pos, labels=booksrec)\n",
    "ax.yaxis.tick_right()\n",
    "ax.invert_yaxis()  # labels read top-to-bottom\n",
    "ax.set_xlabel('Confidence')\n",
    "ax.set_title('Recommended books')\n",
    "\n",
    "plt.show()"
   ]
  },
  {
   "cell_type": "markdown",
   "metadata": {},
   "source": [
    "## A look at the publication year of the recommended books"
   ]
  },
  {
   "cell_type": "code",
   "execution_count": 139,
   "metadata": {},
   "outputs": [],
   "source": [
    "# Get recommended books and their publication years for 5 users\n",
    "\n",
    "n_users_to_plot = 5\n",
    "\n",
    "user_year_dict = {}\n",
    "\n",
    "for i in range(n_users_to_plot):\n",
    "    user_serial_p = hit_uid[i]\n",
    "    rec_isbn_p = np.array(uid_rec[user_serial_p][0])\n",
    "    rec_isbn_found_p = rec_isbn_p[np.isin(rec_isbn_p, books['ISBN'])]\n",
    "    user_year_dict[user_serial_p] = list(books.iloc[pandas.Index(books['ISBN']).get_indexer(rec_isbn_found_p)]['Year-Of-Publication'])"
   ]
  },
  {
   "cell_type": "code",
   "execution_count": 140,
   "metadata": {},
   "outputs": [
    {
     "data": {
      "text/plain": [
       "{'153662': [1992, 2001, 2001, 1999, 2000],\n",
       " '98391': [2002, 2004, 2001, 1993, 1994, 2000, 2004],\n",
       " '212898': [1989, 1992, 1995, 1990, 1990, 1993, 1990, 1990, 1989],\n",
       " '76352': [1996, 2001, 1999, 2002, 2002, 1998, 2003, 2000],\n",
       " '234623': [1982, 2000, 1990, 1998, 2004]}"
      ]
     },
     "execution_count": 140,
     "metadata": {},
     "output_type": "execute_result"
    }
   ],
   "source": [
    "# These are the publication years for each user.\n",
    "\n",
    "user_year_dict"
   ]
  },
  {
   "cell_type": "code",
   "execution_count": 186,
   "metadata": {},
   "outputs": [],
   "source": [
    "# Prepare the data for scatter plot.\n",
    "\n",
    "year_list = []\n",
    "user_list = []\n",
    "color_list = []\n",
    "area_list = []\n",
    "colors = iter(plt.cm.rainbow(np.linspace(0, 1, len(user_year_dict))))\n",
    "\n",
    "for k, v in user_year_dict.items():\n",
    "    user_list.extend([k]*len(v))\n",
    "    year_list.extend(v)\n",
    "    area_list.extend(list((10 + np.random.rand(len(v))*20)**2))\n",
    "    c = next(colors)\n",
    "    color_list.extend([c for _ in range(len(v))])"
   ]
  },
  {
   "cell_type": "code",
   "execution_count": 187,
   "metadata": {
    "scrolled": true
   },
   "outputs": [
    {
     "data": {
      "image/png": "[encoded data removed]",
      "text/plain": [
       "<Figure size 640x480 with 1 Axes>"
      ]
     },
     "metadata": {},
     "output_type": "display_data"
    }
   ],
   "source": [
    "# Plot shows the publication years of the recommeded books for each user in a different color.\n",
    "\n",
    "plt.scatter(year_list, user_list, s = area_list, c=color_list, alpha=0.5)\n",
    "plt.xlabel('Year of Publication')\n",
    "plt.ylabel('User-ID')\n",
    "plt.title(f'Scatter plot: Publication year of recommended books for {len(user_year_dict)} users');"
   ]
  },
  {
   "cell_type": "markdown",
   "metadata": {},
   "source": [
    "From the scatter plot it seems that the model is recommending the books published in the same decade for a user. There are exceptions of course. To get a better understaing of what features the model is considering when predicting the recommendation list it is required to analyze the dataset in more detail and compare with the prediction results."
   ]
  },
  {
   "cell_type": "markdown",
   "metadata": {},
   "source": [
    "## References and Acknowledgements"
   ]
  },
  {
   "cell_type": "markdown",
   "metadata": {},
   "source": [
    "https://towardsdatascience.com/evaluating-a-real-life-recommender-system-error-based-and-ranking-based-84708e3285b\n",
    "\n",
    "https://towardsdatascience.com/evaluation-metrics-for-recommender-systems-df56c6611093\n",
    "\n",
    "https://neptune.ai/blog/recommender-systems-metrics\n",
    "\n",
    "https://towardsdatascience.com/modern-recommendation-systems-with-neural-networks-3cc06a6ded2c\n",
    "\n",
    "https://towardsdatascience.com/ranking-evaluation-metrics-for-recommender-systems-263d0a66ef54\n",
    "\n",
    "https://analyticsindiamag.com/how-to-measure-the-success-of-a-recommendation-system/\n",
    "\n",
    "https://www.kaggle.com/code/nandeshwar/mean-average-precision-map-k-metric-explained-code/notebook\n",
    "\n",
    "https://stackoverflow.com/questions/56658723/how-to-maintain-order-when-selecting-rows-in-pandas-dataframe\n",
    "\n",
    "https://stackoverflow.com/questions/23061657/plot-histogram-with-colors-taken-from-colormap\n",
    "\n",
    "https://stackoverflow.com/questions/4971269/how-to-pick-a-new-color-for-each-plotted-line-within-a-figure-in-matplotlib"
   ]
  }
 ],
 "metadata": {
  "colab": {
   "collapsed_sections": [],
   "provenance": []
  },
  "kernelspec": {
   "display_name": "Python 3 (ipykernel)",
   "language": "python",
   "name": "python3"
  },
  "language_info": {
   "codemirror_mode": {
    "name": "ipython",
    "version": 3
   },
   "file_extension": ".py",
   "mimetype": "text/x-python",
   "name": "python",
   "nbconvert_exporter": "python",
   "pygments_lexer": "ipython3",
   "version": "3.9.12"
  }
 },
 "nbformat": 4,
 "nbformat_minor": 1
}
